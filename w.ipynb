{
 "cells": [
  {
   "cell_type": "code",
   "execution_count": 11,
   "metadata": {},
   "outputs": [],
   "source": [
    "import urllib3\n",
    "#!/usr/local/bin/python\n",
    "# -*- coding: utf-8 -*-\n",
    "\n",
    "import pandas as pd\n",
    "import requests\n",
    "import json\n",
    "import base64\n",
    "import datetime\n",
    "from time import gmtime, strftime\n",
    "import string \n",
    "import urllib3\n",
    "USER = 'admpolitica'\n",
    "PASSWORD = 'xarx@2018'\n",
    "\n",
    "URL = 'https://politica.xarx.rocks/wp-json/wp/v2'\n",
    "# url_media = 'https://politica.xarx.rocks/wp-json/wp/v2/media'\n",
    "# url_pernambuco = 'https://politica.xarx.rocks/pe/wp-json/wp/v2'\n",
    "\n",
    "token = base64.standard_b64encode((USER + ':' + PASSWORD).encode(\"utf-8\"))\n",
    "headers = {'Authorization': 'Basic '.encode(\"utf-8\") + token}\n",
    "\n",
    "# headers = {'Authorization': 'Basic ' + token,\n",
    "#            'rel' : \"https://api.w.org/\"}\n",
    "\n",
    "# headers = {\n",
    "#         'Accept': 'application/json',\n",
    "#         'Content-Type': 'application/json',\n",
    "#         'Authorization': 'Basic ' + token\n",
    "#     }\n",
    "\n",
    "# headers = {\n",
    "#             'Access-Control-Allow-Headers' : 'Authorization, Content-Type',\n",
    "#             'Access-Control-Expose-Headers' : 'X-WP-Total, X-WP-TotalPages',\n",
    "#             'Allow' : 'GET, POST, PUT, PATCH, DELETE',\n",
    "#             'Cache-Control' : 'no-store, no-cache, must-revalidate', \n",
    "#             'Connection' : 'Keep-Alive',\n",
    "# #             Content-Length →1757\n",
    "#             'Content-Type' : 'application/json; charset=UTF-8',\n",
    "# #             Date →Wed, 30 May 2018 12:46:27 GMT\n",
    "# #             Expires →Wed, 11 Jan 1984 05:00:00 GMT\n",
    "#             'Keep-Alive' : 'timeout=5, max=100',\n",
    "# #             Link →<https://politica.xarx.rocks/pe/testando-basico-pe-am/>; rel=\"alternate\"; type=text/html\n",
    "#             'Pragma' : 'no-cache',\n",
    "# #             Server →Apache/2.4.18 (Ubuntu)\n",
    "#             'X-Content-Type-Options' : 'nosniff',\n",
    "#             'X-Robots-Tag' : 'noindex',\n",
    "#            'Authorization': 'Basic ' + token\n",
    "#            }\n",
    "\n",
    "# categoria sem_categoria : 1\n",
    "# categoria geral : 67\n",
    "INDEX_CATEGORIES = {'avante' : 16,  \n",
    "                    'dc' : 22,\n",
    "                    'dem' : 6,\n",
    "                    'mdb' : 2,\n",
    "                    'novo' : 34,\n",
    "                    'psl' : 25,\n",
    "                    'patri' : 31,\n",
    "                    'pcb' : 19,\n",
    "                    'pcdob' : 7,\n",
    "                    'pco' : 23,\n",
    "                    'pdt' : 4,\n",
    "                    'phs' : 21,\n",
    "                    'pmb' : 36,\n",
    "                    'pmn' : 12,\n",
    "                    'pode' : 24,\n",
    "                    'pp' : 17,\n",
    "                    'ppl' : 30,\n",
    "                    'pps' : 14,\n",
    "                    'pr' : 28,\n",
    "                    'prb' : 26,\n",
    "                    'pros' : 32,\n",
    "                    'prp' : 13,\n",
    "                    'prtb' : 20,\n",
    "                    'psb' : 8,\n",
    "                    'psc' : 11,\n",
    "                    'psd' : 29,\n",
    "                    'psdb' : 9,\n",
    "                    'psol' : 27,\n",
    "                    'pstu' : 18,\n",
    "                    'pt' : 5,\n",
    "                    'ptb' : 3,\n",
    "                    'ptc' : 10,\n",
    "                    'pv' : 15,\n",
    "                    'rede' : 35,\n",
    "                    'sd' : 33\n",
    "                    }\n",
    "\n"
   ]
  },
  {
   "cell_type": "code",
   "execution_count": 12,
   "metadata": {},
   "outputs": [
    {
     "data": {
      "text/plain": [
       "b'User-agent: *\\nDisallow: /deny\\n'"
      ]
     },
     "execution_count": 12,
     "metadata": {},
     "output_type": "execute_result"
    }
   ],
   "source": [
    "http = urllib3.PoolManager()\n",
    "r = http.request('GET', 'http://httpbin.org/robots.txt')\n",
    "r.data"
   ]
  },
  {
   "cell_type": "code",
   "execution_count": 13,
   "metadata": {},
   "outputs": [],
   "source": [
    "r = http.request('POST',\n",
    "'http://httpbin.org/post',\n",
    "fields={'hello': 'world'})"
   ]
  },
  {
   "cell_type": "code",
   "execution_count": 14,
   "metadata": {},
   "outputs": [
    {
     "ename": "NameError",
     "evalue": "name 'stations' is not defined",
     "traceback": [
      "\u001b[0;31m---------------------------------------------------------------------------\u001b[0m",
      "\u001b[0;31mNameError\u001b[0m                                 Traceback (most recent call last)",
      "\u001b[0;32m<ipython-input-14-49cec44aee25>\u001b[0m in \u001b[0;36m<module>\u001b[0;34m()\u001b[0m\n\u001b[0;32m----> 1\u001b[0;31m \u001b[0murl\u001b[0m \u001b[0;34m=\u001b[0m \u001b[0;34m'https://politica.xarx.rocks/'\u001b[0m \u001b[0;34m+\u001b[0m \u001b[0mstations\u001b[0m\u001b[0;34m[\u001b[0m\u001b[0;36m0\u001b[0m\u001b[0;34m]\u001b[0m \u001b[0;34m+\u001b[0m \u001b[0;34m'/wp-json/wp/v2'\u001b[0m\u001b[0;34m\u001b[0m\u001b[0m\n\u001b[0m\u001b[1;32m      2\u001b[0m \u001b[0;31m#             url_pernambuco = 'https://politica.xarx.rocks/pe/wp-json/wp/v2'\u001b[0m\u001b[0;34m\u001b[0m\u001b[0;34m\u001b[0m\u001b[0m\n\u001b[1;32m      3\u001b[0m post = {'date': date,\n\u001b[1;32m      4\u001b[0m         \u001b[0;34m'title'\u001b[0m\u001b[0;34m:\u001b[0m \u001b[0mdf\u001b[0m\u001b[0;34m[\u001b[0m\u001b[0;34m'titulos'\u001b[0m\u001b[0;34m]\u001b[0m\u001b[0;34m[\u001b[0m\u001b[0midx\u001b[0m\u001b[0;34m]\u001b[0m\u001b[0;34m,\u001b[0m\u001b[0;34m\u001b[0m\u001b[0m\n\u001b[1;32m      5\u001b[0m         \u001b[0;34m'categories'\u001b[0m\u001b[0;34m:\u001b[0m \u001b[0mcategories\u001b[0m\u001b[0;34m,\u001b[0m\u001b[0;34m\u001b[0m\u001b[0m\n",
      "\u001b[0;31mNameError\u001b[0m: name 'stations' is not defined"
     ],
     "output_type": "error"
    }
   ],
   "source": [
    "url = 'https://politica.xarx.rocks/' + stations[0] + '/wp-json/wp/v2'\n",
    "#             url_pernambuco = 'https://politica.xarx.rocks/pe/wp-json/wp/v2'\n",
    "post = {'date': date,\n",
    "        'title': df['titulos'][idx],\n",
    "        'categories': categories,\n",
    "        'postBlogs': [7],\n",
    "#             'slug': 'post-sao-paulo',\n",
    "        'status': 'publish',\n",
    "        'content': content,\n",
    "        'author': '1',\n",
    "        'format': 'standard'\n",
    "        }"
   ]
  },
  {
   "cell_type": "code",
   "execution_count": 15,
   "metadata": {},
   "outputs": [
    {
     "ename": "NameError",
     "evalue": "name 'post' is not defined",
     "traceback": [
      "\u001b[0;31m---------------------------------------------------------------------------\u001b[0m",
      "\u001b[0;31mNameError\u001b[0m                                 Traceback (most recent call last)",
      "\u001b[0;32m<ipython-input-15-00667de8351d>\u001b[0m in \u001b[0;36m<module>\u001b[0;34m()\u001b[0m\n\u001b[0;32m----> 1\u001b[0;31m \u001b[0mr\u001b[0m \u001b[0;34m=\u001b[0m \u001b[0mhttp\u001b[0m\u001b[0;34m.\u001b[0m\u001b[0mrequest\u001b[0m\u001b[0;34m(\u001b[0m\u001b[0;34m'POST'\u001b[0m\u001b[0;34m,\u001b[0m\u001b[0;34m'url'\u001b[0m \u001b[0;34m+\u001b[0m \u001b[0;34m'/posts'\u001b[0m\u001b[0;34m,\u001b[0m \u001b[0mheaders\u001b[0m\u001b[0;34m=\u001b[0m\u001b[0mheaders\u001b[0m\u001b[0;34m,\u001b[0m \u001b[0mjson\u001b[0m\u001b[0;34m=\u001b[0m\u001b[0mpost\u001b[0m\u001b[0;34m)\u001b[0m\u001b[0;34m\u001b[0m\u001b[0m\n\u001b[0m",
      "\u001b[0;31mNameError\u001b[0m: name 'post' is not defined"
     ],
     "output_type": "error"
    }
   ],
   "source": [
    "r = http.request('POST','url' + '/posts', headers=headers, json=post)"
   ]
  },
  {
   "cell_type": "raw",
   "metadata": {},
   "source": []
  },
  {
   "cell_type": "code",
   "execution_count": null,
   "metadata": {},
   "outputs": [],
   "source": []
  }
 ],
 "metadata": {
  "kernelspec": {
   "display_name": "Python 3",
   "language": "python",
   "name": "python3"
  },
  "language_info": {
   "codemirror_mode": {
    "name": "ipython",
    "version": 3
   },
   "file_extension": ".py",
   "mimetype": "text/x-python",
   "name": "python",
   "nbconvert_exporter": "python",
   "pygments_lexer": "ipython3",
   "version": "3.6.5"
  }
 },
 "nbformat": 4,
 "nbformat_minor": 2
}
